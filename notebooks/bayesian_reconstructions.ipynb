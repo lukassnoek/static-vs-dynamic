{
 "cells": [
  {
   "cell_type": "markdown",
   "id": "sudden-mounting",
   "metadata": {},
   "source": [
    "# Emotion/valence/arousal reconstructions\n",
    "a.k.a. multivariate reverse correlation."
   ]
  },
  {
   "cell_type": "code",
   "execution_count": null,
   "id": "coordinate-feedback",
   "metadata": {},
   "outputs": [],
   "source": [
    "import sys\n",
    "import numpy as np\n",
    "import pandas as pd\n",
    "import seaborn as sns\n",
    "import matplotlib.pyplot as plt\n",
    "import pymc3 as pm\n",
    "import theano.tensor as tt\n",
    "\n",
    "sys.path.append('../src')\n",
    "from utils import plot_face, get_parameters"
   ]
  },
  {
   "cell_type": "markdown",
   "id": "primary-romance",
   "metadata": {},
   "source": [
    "Define some parameters to make the code look nice."
   ]
  },
  {
   "cell_type": "code",
   "execution_count": null,
   "id": "ideal-accounting",
   "metadata": {},
   "outputs": [],
   "source": [
    "N = 848  # number of unique stimuli\n",
    "n_v = 31049  # number of vertices\n",
    "\n",
    "# Load vertices, both static and dynamic\n",
    "v = np.load('../data/vertices.npz')['v']\n",
    "vs = v[:, 0, :, :]\n",
    "vd = v[:, 1, :, :]\n",
    "\n",
    "mean_face = vs.mean(axis=0)  # for plotting\n",
    "tris = np.load('../data/tris.npy') - 1  # triangles"
   ]
  },
  {
   "cell_type": "markdown",
   "id": "jewish-japanese",
   "metadata": {},
   "source": [
    "## Dynamic face information reconstruction\n",
    "We fit a logistic regression model that uses PCA components of dynamic face information (vertex-based deformation between peak frame and start frame), $X$, to predict a categorical emotion label, $y$:\n",
    "\n",
    "\\begin{align}\n",
    "p(y | X) = \\mathrm{softmax}(X\\beta + \\alpha)\n",
    "\\end{align}\n",
    "\n",
    "This was done using scikit-learn. We load in the coefficients (\"beta_hat_vd\") and the offset (\"alpha_hat_vd\") below."
   ]
  },
  {
   "cell_type": "code",
   "execution_count": null,
   "id": "imperial-google",
   "metadata": {},
   "outputs": [],
   "source": [
    "coef = pd.read_csv('../results/validation/target-emotion_fs-vertexPCA_type-dynamic_coefs.tsv', sep='\\t', index_col=0)\n",
    "SUB = 'average'\n",
    "alpha_hat, beta_hat, Z = get_parameters(SUB, coef)"
   ]
  },
  {
   "cell_type": "markdown",
   "id": "selective-extreme",
   "metadata": {},
   "source": [
    "Now, if we want to know the face movement in vertex space that, according to our previously estimated logistic regression model, predicts a particular emotion label, i.e., $p(X|Y)$, we need to invert the model. We can do this using Bayesian modelling with *pymc3*:"
   ]
  },
  {
   "cell_type": "code",
   "execution_count": null,
   "id": "taken-international",
   "metadata": {},
   "outputs": [],
   "source": [
    "from model import run_inverted_logreg\n",
    "run_inverted_logreg??"
   ]
  },
  {
   "cell_type": "code",
   "execution_count": null,
   "id": "fallen-chancellor",
   "metadata": {},
   "outputs": [],
   "source": [
    "# Load in the features in PCA space to determine the range of the uniform prior\n",
    "vd_pca = pd.read_csv('../data/features/vertexPCA_type-dynamic.tsv', sep='\\t', index_col=0).to_numpy()\n",
    "trace, X_hdp = run_inverted_logreg(vd_pca, beta_hat, alpha_hat, return_hdp=True)"
   ]
  },
  {
   "cell_type": "markdown",
   "id": "induced-overall",
   "metadata": {},
   "source": [
    "Now, the posterior distribution of our $X$ variable represents the probability distribution of our PCA components, given a particular emotion (\"anger\", \"happiness\", etc.). The function also spits out `X_hdp`, a selection of values from the highest density region of our posterior."
   ]
  },
  {
   "cell_type": "code",
   "execution_count": null,
   "id": "connected-expense",
   "metadata": {},
   "outputs": [],
   "source": [
    "X_hdp.shape  # most likely values for 50 components for each of 6 emotions\n",
    "np.savez('../results/validation/target-emotion_type-dynamic_posterior.npz', trace=trace, hdp=X_hdp)"
   ]
  },
  {
   "cell_type": "markdown",
   "id": "usual-agreement",
   "metadata": {},
   "source": [
    "Now onto the cool stuff. We can visualize the face that is most likely interpreted as a particular emotion. To do so, we need to invert the PCA operation to go from PCA space ($X$) to stimulus space ($S$). "
   ]
  },
  {
   "cell_type": "code",
   "execution_count": null,
   "id": "driving-planet",
   "metadata": {},
   "outputs": [],
   "source": [
    "with np.load('../results/pca/pca_type-dynamic_weights.npz') as data:\n",
    "    # \"vd\" stands for \"vertex difference\"\n",
    "    mu_vd, w_vd = data['mu'], data['W']"
   ]
  },
  {
   "cell_type": "code",
   "execution_count": null,
   "id": "whole-earth",
   "metadata": {},
   "outputs": [],
   "source": [
    "S_emo_vd = ((X_hdp * vd_pca.std(axis=0)) @ w_vd + mu_vd).reshape((6, n_v, 3))\n",
    "overlay_emo_vd = S_emo_vd / vd.std(axis=0)\n",
    "overlay_emo_vd[np.isnan(overlay_emo_vd)] = 0\n",
    "np.savez('../results/validation/target-emotion_type-dynamic_recon.npz', S=S_emo_vd, overlay=overlay_emo_vd)"
   ]
  },
  {
   "cell_type": "code",
   "execution_count": null,
   "id": "tutorial-professional",
   "metadata": {},
   "outputs": [],
   "source": [
    "fig = plot_face(mean_face + S_emo_vd[0, :, :], tris, overlay=overlay_emo_vd[0, :, :], cmax=4, cmin=-4, threshold=0.1)\n",
    "fig.show()"
   ]
  },
  {
   "cell_type": "markdown",
   "id": "executive-ontario",
   "metadata": {},
   "source": [
    "### Static"
   ]
  },
  {
   "cell_type": "code",
   "execution_count": null,
   "id": "thick-choice",
   "metadata": {
    "scrolled": false
   },
   "outputs": [],
   "source": [
    "# First PC\n",
    "with np.load('../results/pca/pca_type-static_weights.npz') as data:\n",
    "    mu_vs, w_vs = data['mu'], data['W']\n",
    "\n",
    "vs_pca = pd.read_csv('../data/features/vertexPCA_type-static.tsv', sep='\\t', index_col=0).to_numpy()"
   ]
  },
  {
   "cell_type": "code",
   "execution_count": null,
   "id": "compound-indication",
   "metadata": {},
   "outputs": [],
   "source": [
    "coef = pd.read_csv('../results/validation/target-emotion_fs-vertexPCA_type-static_coefs.tsv', sep='\\t', index_col=0)\n",
    "alpha_hat, beta_hat, Z = get_parameters(SUB, coef)\n",
    "# Note to self: leave out comp 50, because there's no variance in that (std = 0 -> NaN)\n",
    "beta_hat = beta_hat[:, :49]"
   ]
  },
  {
   "cell_type": "code",
   "execution_count": null,
   "id": "killing-lawyer",
   "metadata": {},
   "outputs": [],
   "source": [
    "trace, X_hdp = run_inverted_logreg(vs_pca[:, :49], beta_hat, alpha_hat, return_hdp=True)\n",
    "np.savez('../results/validation/target-emotion_type-static_posterior.npz', trace=trace, X_hdp=X_hdp)"
   ]
  },
  {
   "cell_type": "code",
   "execution_count": null,
   "id": "bound-league",
   "metadata": {},
   "outputs": [],
   "source": [
    "S_emo_vs = ((X_hdp * vs_pca.std(axis=0)[:49]) @ w_vs[:49, :]).reshape((6, n_v, 3))\n",
    "overlay_emo_vs = S_emo_vs / vs.std(axis=0)\n",
    "overlay_emo_vs[np.isnan(overlay_emo_vs)] = 0\n",
    "np.savez('../results/validation/target-emotion_type-static_recon.npz', S=S_emo_vs, overlay=overlay_emo_vs)"
   ]
  },
  {
   "cell_type": "code",
   "execution_count": null,
   "id": "significant-ensemble",
   "metadata": {},
   "outputs": [],
   "source": [
    "#fig = plot_face(mu_vs.reshape((n_v, 3)) + S_emo_vs, tris, overlay=overlay_emo_vs, cmax=4, cmin=-4, threshold=0.1)\n",
    "#fig.show()\n",
    "#fig.write_image('../figures/target-emotion_type-static_recon.png', scale=2)"
   ]
  },
  {
   "cell_type": "markdown",
   "id": "dense-riding",
   "metadata": {},
   "source": [
    "## Valence (dynamic)"
   ]
  },
  {
   "cell_type": "code",
   "execution_count": null,
   "id": "innovative-victorian",
   "metadata": {},
   "outputs": [],
   "source": [
    "SUB = 'average'\n",
    "coef = pd.read_csv('../results/validation/target-valence_fs-vertexPCA_type-dynamic_coefs.tsv', sep='\\t', index_col=0)\n",
    "alpha_hat, beta_hat, sigma_hat, Z = get_parameters(SUB, coef)"
   ]
  },
  {
   "cell_type": "code",
   "execution_count": null,
   "id": "outdoor-evidence",
   "metadata": {},
   "outputs": [],
   "source": [
    "from model import run_inverted_linreg\n",
    "trace, X_hdp = run_inverted_linreg(vd_pca, beta_hat, alpha_hat, sigma_hat, return_hdp=True)\n",
    "np.savez('../results/validation/target-valence_type-dynamic_posterior.npz', trace=trace, X_hdp=X_hdp)"
   ]
  },
  {
   "cell_type": "code",
   "execution_count": null,
   "id": "academic-astronomy",
   "metadata": {},
   "outputs": [],
   "source": [
    "S_valence_vd = ((X_hdp * vd_pca.std(axis=0)) @ w_vd + mu_vd).reshape((7, n_v, 3))\n",
    "overlay_valence_vd = S_valence_vd / vd.std(axis=0)\n",
    "np.savez('../results/validation/target-valence_type-dynamic_recon.npz', S=S_valence_vd, overlay=overlay_valence_vd)"
   ]
  },
  {
   "cell_type": "code",
   "execution_count": null,
   "id": "forced-decade",
   "metadata": {},
   "outputs": [],
   "source": [
    "fig = plot_face(mean_face + S_valence_vd[5, :, :], tris, overlay=overlay_valence_vd[5, :, :], cmax=4, cmin=-4, threshold=0.1)\n",
    "fig.show()\n",
    "#fig.write_image('../figures/target-valence_type-dynamic_recon.png', scale=2)"
   ]
  },
  {
   "cell_type": "markdown",
   "id": "determined-canadian",
   "metadata": {},
   "source": [
    "## Valence (static)"
   ]
  },
  {
   "cell_type": "code",
   "execution_count": null,
   "id": "changed-edwards",
   "metadata": {},
   "outputs": [],
   "source": [
    "coef = pd.read_csv('../results/validation/target-valence_fs-vertexPCA_type-static_coefs.tsv', sep='\\t', index_col=0)\n",
    "alpha_hat, beta_hat, sigma_hat, Z = get_parameters(SUB, coef)\n",
    "beta_hat = beta_hat[:49]\n",
    "trace, X_hdp = run_inverted_linreg(vs_pca[:, :49], beta_hat, alpha_hat, sigma_hat, return_hdp=True)"
   ]
  },
  {
   "cell_type": "code",
   "execution_count": null,
   "id": "stuck-oxford",
   "metadata": {},
   "outputs": [],
   "source": [
    "np.savez('../results/validation/target-valence_type-static_posterior.npz', trace=trace, X_hdp=X_hdp)"
   ]
  },
  {
   "cell_type": "code",
   "execution_count": null,
   "id": "potential-klein",
   "metadata": {
    "scrolled": false
   },
   "outputs": [],
   "source": [
    "S_valence_vs = ((X_hdp * vs_pca.std(axis=0)[:49]) @ w_vs[:49, :]).reshape((7, n_v, 3))\n",
    "overlay_valence_vs = S_valence_vs / vs.std(axis=0)\n",
    "np.savez('../results/validation/target-valence_type-static_recon.npz', S=S_valence_vs, overlay=overlay_valence_vs)"
   ]
  },
  {
   "cell_type": "code",
   "execution_count": null,
   "id": "dramatic-course",
   "metadata": {},
   "outputs": [],
   "source": [
    "fig = plot_face(mu_vs.reshape((n_v, 3)) + S_valence_vs[0, :, :], tris, overlay=overlay_valence_vs[0, :, :], cmax=4, cmin=-4, threshold=0.1)\n",
    "fig.show()\n",
    "#fig.write_image('../figures/target-valence_type-static_recon.png', scale=2)"
   ]
  },
  {
   "cell_type": "markdown",
   "id": "applied-difference",
   "metadata": {},
   "source": [
    "## Arousal (dynamic)"
   ]
  },
  {
   "cell_type": "code",
   "execution_count": null,
   "id": "aboriginal-supplier",
   "metadata": {},
   "outputs": [],
   "source": [
    "coef = pd.read_csv('../results/validation/target-arousal_fs-vertexPCA_type-dynamic_coefs.tsv', sep='\\t', index_col=0)\n",
    "alpha_hat, beta_hat, sigma_hat, Z = get_parameters(SUB, coef)\n",
    "trace, X_hdp = run_inverted_linreg(vd_pca, beta_hat, alpha_hat, sigma_hat, return_hdp=True)"
   ]
  },
  {
   "cell_type": "code",
   "execution_count": null,
   "id": "capable-lending",
   "metadata": {},
   "outputs": [],
   "source": [
    "np.savez('../results/validation/target-arousal_type-dynamic_posterior.npz', trace=trace, X_hdp=X_hdp)\n",
    "\n",
    "S_arousal_vd = ((X_hdp * vd_pca.std(axis=0)) @ w_vd + mu_vd).reshape((7, n_v, 3))\n",
    "overlay_arousal_vd = S_arousal_vd / vd.std(axis=0)\n",
    "np.savez('../results/validation/target-arousal_type-dynamic_recon.npz', S=S_arousal_vd, overlay=overlay_arousal_vd)"
   ]
  },
  {
   "cell_type": "code",
   "execution_count": null,
   "id": "demonstrated-painting",
   "metadata": {},
   "outputs": [],
   "source": [
    "fig = plot_face(mean_face + S_arousal_vd[4, :, :], tris, overlay=overlay_arousal_vd[4, :, :], cmax=4, cmin=-4, threshold=0.1)\n",
    "fig.show()\n",
    "#fig.write_image('../figures/target-arousal_type-dynamic_recon.png', scale=2)"
   ]
  },
  {
   "cell_type": "markdown",
   "id": "supported-railway",
   "metadata": {},
   "source": [
    "## Arousal (static)"
   ]
  },
  {
   "cell_type": "code",
   "execution_count": null,
   "id": "athletic-reliance",
   "metadata": {},
   "outputs": [],
   "source": [
    "coef = pd.read_csv('../results/validation/target-arousal_fs-vertexPCA_type-static_coefs.tsv', sep='\\t', index_col=0)\n",
    "alpha_hat, beta_hat, sigma_hat, Z = get_parameters(SUB, coef)\n",
    "beta_hat = beta_hat[:49]\n",
    "trace, X_hdp = run_inverted_linreg(vs_pca[:, :49], beta_hat, alpha_hat, sigma_hat, return_hdp=True)"
   ]
  },
  {
   "cell_type": "code",
   "execution_count": null,
   "id": "unusual-legend",
   "metadata": {},
   "outputs": [],
   "source": [
    "np.savez('../results/validation/target-arousal_type-static_posterior.npz', trace=trace, X_hdp=X_hdp)\n",
    "\n",
    "S_arousal_vs = ((X_hdp * vs_pca.std(axis=0)[:49]) @ w_vs[:49, :]).reshape((7, n_v, 3))\n",
    "overlay_arousal_vs = S_arousal_vs / vs.std(axis=0)\n",
    "np.savez('../results/validation/target-arousal_type-static_recon.npz', S=S_arousal_vs, overlay=overlay_arousal_vs)"
   ]
  },
  {
   "cell_type": "code",
   "execution_count": null,
   "id": "micro-factory",
   "metadata": {},
   "outputs": [],
   "source": [
    "fig = plot_face(mu_vs.reshape((n_v, 3)) + S_arousal_vs[0, :, :], tris, overlay=overlay_arousal_vs[0, :, :], cmax=4, cmin=-4, threshold=0.1)\n",
    "fig.show()"
   ]
  }
 ],
 "metadata": {
  "kernelspec": {
   "display_name": "Python 3",
   "language": "python",
   "name": "python3"
  },
  "language_info": {
   "codemirror_mode": {
    "name": "ipython",
    "version": 3
   },
   "file_extension": ".py",
   "mimetype": "text/x-python",
   "name": "python",
   "nbconvert_exporter": "python",
   "pygments_lexer": "ipython3",
   "version": "3.8.5"
  },
  "toc": {
   "base_numbering": 1,
   "nav_menu": {},
   "number_sections": true,
   "sideBar": true,
   "skip_h1_title": true,
   "title_cell": "Table of Contents",
   "title_sidebar": "Contents",
   "toc_cell": false,
   "toc_position": {},
   "toc_section_display": true,
   "toc_window_display": false
  }
 },
 "nbformat": 4,
 "nbformat_minor": 5
}
