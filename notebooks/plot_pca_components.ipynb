{
 "cells": [
  {
   "cell_type": "markdown",
   "id": "legendary-australian",
   "metadata": {},
   "source": [
    "# Plot structure and PCA components\n",
    "\n",
    "What type of information does our PCA decomposition in vertex-space actually capture?"
   ]
  },
  {
   "cell_type": "code",
   "execution_count": 3,
   "id": "nominated-suggestion",
   "metadata": {},
   "outputs": [],
   "source": [
    "import sys\n",
    "import numpy as np\n",
    "import pandas as pd\n",
    "import seaborn as sns\n",
    "import matplotlib.pyplot as plt\n",
    "from sklearn.decomposition import PCA\n",
    "sys.path.append('../src')\n",
    "from utils import plot_face"
   ]
  },
  {
   "cell_type": "code",
   "execution_count": 4,
   "id": "supreme-legislature",
   "metadata": {},
   "outputs": [
    {
     "ename": "FileNotFoundError",
     "evalue": "[Errno 2] No such file or directory: '../data/vertices.npz'",
     "output_type": "error",
     "traceback": [
      "\u001b[0;31m---------------------------------------------------------------------------\u001b[0m",
      "\u001b[0;31mFileNotFoundError\u001b[0m                         Traceback (most recent call last)",
      "\u001b[0;32m<ipython-input-4-e4a320fa7904>\u001b[0m in \u001b[0;36m<module>\u001b[0;34m\u001b[0m\n\u001b[1;32m      3\u001b[0m \u001b[0;34m\u001b[0m\u001b[0m\n\u001b[1;32m      4\u001b[0m \u001b[0;31m# Load vertices, both static and dynamic\u001b[0m\u001b[0;34m\u001b[0m\u001b[0;34m\u001b[0m\u001b[0;34m\u001b[0m\u001b[0m\n\u001b[0;32m----> 5\u001b[0;31m \u001b[0mv\u001b[0m \u001b[0;34m=\u001b[0m \u001b[0mnp\u001b[0m\u001b[0;34m.\u001b[0m\u001b[0mload\u001b[0m\u001b[0;34m(\u001b[0m\u001b[0;34m'../data/vertices.npz'\u001b[0m\u001b[0;34m)\u001b[0m\u001b[0;34m[\u001b[0m\u001b[0;34m'v'\u001b[0m\u001b[0;34m]\u001b[0m\u001b[0;34m\u001b[0m\u001b[0;34m\u001b[0m\u001b[0m\n\u001b[0m\u001b[1;32m      6\u001b[0m \u001b[0mvs\u001b[0m \u001b[0;34m=\u001b[0m \u001b[0mv\u001b[0m\u001b[0;34m[\u001b[0m\u001b[0;34m:\u001b[0m\u001b[0;34m,\u001b[0m \u001b[0;36m0\u001b[0m\u001b[0;34m,\u001b[0m \u001b[0;34m:\u001b[0m\u001b[0;34m,\u001b[0m \u001b[0;34m:\u001b[0m\u001b[0;34m]\u001b[0m\u001b[0;34m\u001b[0m\u001b[0;34m\u001b[0m\u001b[0m\n\u001b[1;32m      7\u001b[0m \u001b[0mvd\u001b[0m \u001b[0;34m=\u001b[0m \u001b[0mv\u001b[0m\u001b[0;34m[\u001b[0m\u001b[0;34m:\u001b[0m\u001b[0;34m,\u001b[0m \u001b[0;36m1\u001b[0m\u001b[0;34m,\u001b[0m \u001b[0;34m:\u001b[0m\u001b[0;34m,\u001b[0m \u001b[0;34m:\u001b[0m\u001b[0;34m]\u001b[0m\u001b[0;34m\u001b[0m\u001b[0;34m\u001b[0m\u001b[0m\n",
      "\u001b[0;32m/opt/tljh/user/lib/python3.8/site-packages/numpy/lib/npyio.py\u001b[0m in \u001b[0;36mload\u001b[0;34m(file, mmap_mode, allow_pickle, fix_imports, encoding)\u001b[0m\n\u001b[1;32m    414\u001b[0m             \u001b[0mown_fid\u001b[0m \u001b[0;34m=\u001b[0m \u001b[0;32mFalse\u001b[0m\u001b[0;34m\u001b[0m\u001b[0;34m\u001b[0m\u001b[0m\n\u001b[1;32m    415\u001b[0m         \u001b[0;32melse\u001b[0m\u001b[0;34m:\u001b[0m\u001b[0;34m\u001b[0m\u001b[0;34m\u001b[0m\u001b[0m\n\u001b[0;32m--> 416\u001b[0;31m             \u001b[0mfid\u001b[0m \u001b[0;34m=\u001b[0m \u001b[0mstack\u001b[0m\u001b[0;34m.\u001b[0m\u001b[0menter_context\u001b[0m\u001b[0;34m(\u001b[0m\u001b[0mopen\u001b[0m\u001b[0;34m(\u001b[0m\u001b[0mos_fspath\u001b[0m\u001b[0;34m(\u001b[0m\u001b[0mfile\u001b[0m\u001b[0;34m)\u001b[0m\u001b[0;34m,\u001b[0m \u001b[0;34m\"rb\"\u001b[0m\u001b[0;34m)\u001b[0m\u001b[0;34m)\u001b[0m\u001b[0;34m\u001b[0m\u001b[0;34m\u001b[0m\u001b[0m\n\u001b[0m\u001b[1;32m    417\u001b[0m             \u001b[0mown_fid\u001b[0m \u001b[0;34m=\u001b[0m \u001b[0;32mTrue\u001b[0m\u001b[0;34m\u001b[0m\u001b[0;34m\u001b[0m\u001b[0m\n\u001b[1;32m    418\u001b[0m \u001b[0;34m\u001b[0m\u001b[0m\n",
      "\u001b[0;31mFileNotFoundError\u001b[0m: [Errno 2] No such file or directory: '../data/vertices.npz'"
     ]
    }
   ],
   "source": [
    "N = 848  # number of unique stimuli\n",
    "n_v = 31049  # number of vertices\n",
    "\n",
    "# Load vertices, both static and dynamic\n",
    "v = np.load('../data/vertices.npz')['v']\n",
    "vs = v[:, 0, :, :]\n",
    "vd = v[:, 1, :, :]\n",
    "\n",
    "mean_face = vs.mean(axis=0)  # for plotting\n",
    "tris = np.load('../data/tris.npy') - 1  # triangles"
   ]
  },
  {
   "cell_type": "markdown",
   "id": "vital-venice",
   "metadata": {},
   "source": [
    "## Dynamic face movements\n",
    "Importantly, we operationalized the movement of vertices as difference between the vertex coordinates at frame 1 and the vertex coordinates at frame 15 (the frame containing the peak expression). Then, we fit a PCA on this difference.\n",
    "\n",
    "We redo this here, to create a figure that shows the (cumulative) explained variance."
   ]
  },
  {
   "cell_type": "code",
   "execution_count": null,
   "id": "exterior-motor",
   "metadata": {},
   "outputs": [],
   "source": [
    "pca_vs = PCA(n_components=50)\n",
    "pca_vs.fit(vs.reshape((N, -1)))\n",
    "pca_vd = PCA(n_components=50)\n",
    "pca_vd.fit(vd.reshape((N, -1)))"
   ]
  },
  {
   "cell_type": "code",
   "execution_count": null,
   "id": "wireless-college",
   "metadata": {},
   "outputs": [],
   "source": [
    "fig, axes = plt.subplots(nrows=2, sharex=True, sharey=True, figsize=(10, 8))\n",
    "axes[0].bar(range(1, 51), pca_vd.explained_variance_ratio_)\n",
    "axes[0].set_ylabel('Explained variance ratio', fontsize=15)\n",
    "\n",
    "ax_tw = axes[0].twinx()\n",
    "c_evr = np.r_[0, np.cumsum(pca_vd.explained_variance_ratio_)]\n",
    "ax_tw.plot(range(51), c_evr, c='k', ls='--')\n",
    "ax_tw.set_ylim(0, 1)\n",
    "ax_tw.set_ylabel(\"Cumulative expl. variance ratio\", fontsize=15)\n",
    "\n",
    "axes[1].bar(range(1, 51), pca_vs.explained_variance_ratio_)\n",
    "axes[1].set_ylabel('Explained variance ratio', fontsize=15)\n",
    "\n",
    "ax_tw = axes[1].twinx()\n",
    "c_evr = np.r_[0, np.cumsum(pca_vs.explained_variance_ratio_)]\n",
    "ax_tw.plot(range(0, 51), c_evr, c='k', ls='--')\n",
    "ax_tw.set_ylim(0, 1.003)\n",
    "ax_tw.set_ylabel(\"Cumulative expl. variance ratio\", fontsize=15)\n",
    "\n",
    "axes[0].set_xlim(-.1, 50)\n",
    "axes[0].set_ylim(0, 0.45)\n",
    "axes[0].text(25, 0.225, \"Dynamic\", va='center', ha='center', fontsize=25)\n",
    "axes[1].text(25, 0.225, \"Static\", va='center', ha='center', fontsize=25)\n",
    "axes[1].set_xlabel(\"Component nr.\", fontsize=15)\n",
    "\n",
    "sns.despine(top=True, right=False)\n",
    "fig.tight_layout(h_pad=3)\n",
    "fig.savefig('../figures/pca_decomposition.png', dpi=200)"
   ]
  },
  {
   "cell_type": "code",
   "execution_count": null,
   "id": "express-prize",
   "metadata": {},
   "outputs": [],
   "source": [
    "fig, axes = plt.subplots(ncols=2, nrows=2, figsize=(15, 8), sharex=True, sharey=True)\n",
    "\n",
    "for i, tpe in enumerate(['dynamic', 'static']):\n",
    "    coef = pd.read_csv(f'../results/validation/target-emotion_fs-vertexPCA_type-{tpe}_coefs.tsv', sep='\\t', index_col=0)\n",
    "    for emo in ['Anger', 'Disgust', 'Fear', 'Happiness', 'Sadness', 'Surprise']:\n",
    "        tmp = coef.query(\"emotion == @emo\").drop(['emotion', 'feature_set', 'sub', 'icept'], axis=1)\n",
    "        tmp = tmp.mean(axis=0).abs().to_numpy()\n",
    "        tmp = (tmp - tmp.min()) / (tmp.max() - tmp.min())\n",
    "        axes[0, i].plot(tmp)\n",
    "        if i == 0:\n",
    "            axes[0, i].legend(['Anger', 'Disgust', 'Fear', 'Happiness', 'Sadness', 'Surprise'],\n",
    "                              frameon=False, fontsize=15)\n",
    "\n",
    "\n",
    "    for target in ['valence', 'arousal']:\n",
    "        coef = pd.read_csv(f'../results/validation/target-{target}_fs-vertexPCA_type-{tpe}_coefs.tsv', sep='\\t', index_col=0)\n",
    "        tmp = coef.drop(['icept', 'sub', 'feature_set', 'sigma'], axis=1)\n",
    "        tmp = tmp.mean(axis=0).abs().to_numpy()\n",
    "        tmp = (tmp - tmp.min()) / (tmp.max() - tmp.min())\n",
    "        axes[1, i].plot(tmp)\n",
    "        if i == 0:\n",
    "            axes[1, i].legend(['Valence', 'Arousal'], frameon=False, fontsize=15)\n",
    "        \n",
    "for i in range(2):\n",
    "    axes[i, 0].set_ylabel(r'$\\mathrm{abs}(\\hat{\\beta})$', fontsize=20)\n",
    "    axes[1, i].set_xlabel('Component', fontsize=20)\n",
    "sns.despine()\n",
    "fig.tight_layout()"
   ]
  },
  {
   "cell_type": "markdown",
   "id": "alike-laptop",
   "metadata": {},
   "source": [
    "First, we'll load the PCA parameters (\"mu\", the mean, and \"w\", the weights) of this decomposition:"
   ]
  },
  {
   "cell_type": "code",
   "execution_count": null,
   "id": "satellite-classification",
   "metadata": {},
   "outputs": [],
   "source": [
    "with np.load('../results/pca/pca_type-dynamic_weights.npz') as data:\n",
    "    # \"vd\" stands for \"vertex difference\"\n",
    "    mu_vd, W_vd = data['mu'], data['W']\n",
    "    \n",
    "# Note that the 3 coordinates (X, Y, Z) per vertex are flattened here\n",
    "print(mu_vd.shape)\n",
    "print(W_vd.shape)  # 50 PCA components"
   ]
  },
  {
   "cell_type": "markdown",
   "id": "intermediate-vatican",
   "metadata": {},
   "source": [
    "Because (almost) each stimulus contained *some* movement, the `mu` variable contains the average movement, which we ignore for now. \n",
    "\n",
    "We can also plot separate components to see which vertices are \"grouped\" into a component. To do so, we define a face in PCA space (which has 50 dimensions) with a particular configuration. For example, if we want to visualize a face with only PCA component 1, we could specify its configuration as:\n",
    "\n",
    "\\begin{align}\n",
    "X_{\\mathrm{comp} = 1} = [1, 0, 0, ..., 0]\n",
    "\\end{align}\n",
    "\n",
    "However, setting it to \"1\" is rather arbitrary in PCA space. It makes more sense to set it to, let's say, 3 standard deviations of that feature, i.e.:\n",
    "\n",
    "\\begin{align}\n",
    "X_{\\mathrm{comp} = 1} = [3\\times \\hat{\\sigma}_{X_{1}}, 0, 0, ..., 0]\n",
    "\\end{align}"
   ]
  },
  {
   "cell_type": "code",
   "execution_count": null,
   "id": "north-shuttle",
   "metadata": {},
   "outputs": [],
   "source": [
    "# First PC\n",
    "vd_pca = pd.read_csv('../data/features/vertexPCA_type-dynamic.tsv', sep='\\t', index_col=0)\n",
    "vd_pca_std = vd_pca.std(axis=0).to_numpy()\n",
    "\n",
    "IDX = 2\n",
    "X = np.zeros((1, 50))\n",
    "X[0, IDX] = vd_pca_std[IDX] * 3\n",
    "print(X)"
   ]
  },
  {
   "cell_type": "markdown",
   "id": "bizarre-employer",
   "metadata": {},
   "source": [
    "Then, we invert the PCA transformation (i.e., the \"inverse PCA\") to go from PCA space ($X$) to stimulus space ($S$):\n",
    "\n",
    "\\begin{align}\n",
    "S = XW + \\mu\n",
    "\\end{align}\n",
    "\n",
    "where $W$ are the PCA weights and $\\mu$ is the PCA mean.\n",
    "\n",
    "The visualization has three faces, highlighting the movement in X (left-right), Y (up-down), and Z (front-back) separately. Blue = more to the left (X), down (Y), and back (Z). Red = more to right (X), up (Y), and front (Z)."
   ]
  },
  {
   "cell_type": "code",
   "execution_count": null,
   "id": "acute-martial",
   "metadata": {},
   "outputs": [],
   "source": [
    "S = (X @ W_vd + mu_vd).reshape((n_v, 3))\n",
    "overlay = S / vd.std(axis=0)\n",
    "fig = plot_face(mean_face + S, tris, overlay=overlay)\n",
    "fig.show()"
   ]
  },
  {
   "cell_type": "markdown",
   "id": "beginning-department",
   "metadata": {},
   "source": [
    "Let's do it for the first four components:"
   ]
  },
  {
   "cell_type": "code",
   "execution_count": null,
   "id": "starting-pound",
   "metadata": {},
   "outputs": [],
   "source": [
    "S = np.zeros((4, n_v, 3))\n",
    "for idx in range(4):\n",
    "    X = np.zeros((1, 50))\n",
    "    X[0, idx] = vd_pca_std[IDX] * 3\n",
    "    S[idx, :, :] = (X @ W_vd + mu_vd).reshape((n_v, 3))\n",
    "    \n",
    "overlay = S / vd.std(axis=0)\n",
    "fig = plot_face(mean_face + S, tris, overlay=overlay, cmin=-2, cmax=2)\n",
    "fig.write_image('../figures/type-dynamic_pca.png', scale=2)\n",
    "fig.show() "
   ]
  },
  {
   "cell_type": "markdown",
   "id": "lyric-convert",
   "metadata": {},
   "source": [
    "## Static face information"
   ]
  },
  {
   "cell_type": "code",
   "execution_count": null,
   "id": "utility-tutorial",
   "metadata": {},
   "outputs": [],
   "source": [
    "with np.load('../results/pca/pca_type-static_weights.npz') as data:\n",
    "    mu_vs, W_vs = data['mu'], data['W']"
   ]
  },
  {
   "cell_type": "markdown",
   "id": "identical-precipitation",
   "metadata": {},
   "source": [
    "Let's plot the average face."
   ]
  },
  {
   "cell_type": "code",
   "execution_count": null,
   "id": "unavailable-edition",
   "metadata": {},
   "outputs": [],
   "source": [
    "fig = plot_face(mu_vs.reshape((n_v, 3)), tris)\n",
    "fig.show()"
   ]
  },
  {
   "cell_type": "markdown",
   "id": "handy-candidate",
   "metadata": {},
   "source": [
    "And let's plot the first PCA component. Note that we leave out the mean of the PCA ($\\mu$) in the inverse transformation."
   ]
  },
  {
   "cell_type": "code",
   "execution_count": null,
   "id": "sufficient-anthony",
   "metadata": {},
   "outputs": [],
   "source": [
    "vs_pca = pd.read_csv('../data/features/vertexPCA_type-static.tsv', sep='\\t', index_col=0)\n",
    "vs_pca_std = vs_pca.std(axis=0).to_numpy()\n",
    "\n",
    "S = np.zeros((4, n_v, 3))\n",
    "for idx in range(4):\n",
    "    X = np.zeros((1, 50))\n",
    "    X[0, idx] = vs_pca_std[IDX] * 3\n",
    "    S[idx, :, :] = (X @ W_vs).reshape((n_v, 3))\n",
    "    \n",
    "overlay = S / vs.std(axis=0)\n",
    "fig = plot_face(mean_face + S, tris, overlay=overlay, cmin=-3, cmax=3)\n",
    "fig.write_image('../figures/type-static_pca.png', scale=2)\n",
    "fig.show() "
   ]
  }
 ],
 "metadata": {
  "celltoolbar": "Raw Cell Format",
  "kernelspec": {
   "display_name": "Python 3",
   "language": "python",
   "name": "python3"
  },
  "language_info": {
   "codemirror_mode": {
    "name": "ipython",
    "version": 3
   },
   "file_extension": ".py",
   "mimetype": "text/x-python",
   "name": "python",
   "nbconvert_exporter": "python",
   "pygments_lexer": "ipython3",
   "version": "3.8.5"
  },
  "toc": {
   "base_numbering": 1,
   "nav_menu": {},
   "number_sections": true,
   "sideBar": true,
   "skip_h1_title": true,
   "title_cell": "Table of Contents",
   "title_sidebar": "Contents",
   "toc_cell": false,
   "toc_position": {},
   "toc_section_display": true,
   "toc_window_display": false
  }
 },
 "nbformat": 4,
 "nbformat_minor": 5
}
