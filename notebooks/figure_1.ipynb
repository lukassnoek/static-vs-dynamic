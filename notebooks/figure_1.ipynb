{
 "cells": [
  {
   "cell_type": "code",
   "execution_count": null,
   "id": "australian-blues",
   "metadata": {},
   "outputs": [],
   "source": [
    "import sys\n",
    "import numpy as np\n",
    "import pandas as pd\n",
    "import seaborn as sns\n",
    "import matplotlib.pyplot as plt\n",
    "import pymc3 as pm\n",
    "import theano.tensor as tt\n",
    "\n",
    "sys.path.append('../src')\n",
    "from utils import plot_face, get_parameters"
   ]
  },
  {
   "cell_type": "code",
   "execution_count": null,
   "id": "personal-alias",
   "metadata": {},
   "outputs": [],
   "source": [
    "N = 848  # number of unique stimuli\n",
    "n_v = 31049  # number of vertices\n",
    "\n",
    "# Load vertices, both static and dynamic\n",
    "v = np.load('../data/vertices.npz')['v']\n",
    "vs = v[:, 0, :, :]\n",
    "vd = v[:, 1, :, :]\n",
    "\n",
    "mean_face = vs.mean(axis=0)  # for plotting\n",
    "tris = np.load('../data/tris.npy') - 1  # triangles"
   ]
  },
  {
   "cell_type": "code",
   "execution_count": null,
   "id": "apparent-support",
   "metadata": {},
   "outputs": [],
   "source": [
    "from scipy.io import loadmat\n",
    "example_face = loadmat('../data/example_stim/frame01_vertices.mat')['vertices']"
   ]
  },
  {
   "cell_type": "code",
   "execution_count": null,
   "id": "found-police",
   "metadata": {},
   "outputs": [],
   "source": [
    "plot_face(example_face, tri=tris, overlay=example_face-mean_face)"
   ]
  },
  {
   "cell_type": "code",
   "execution_count": null,
   "id": "labeled-banana",
   "metadata": {},
   "outputs": [],
   "source": [
    "f15 = loadmat('../data/example_stim/frame15_vertices.mat')['vertices']\n",
    "mov = f15 - example_face\n",
    "plot_face(example_face + mov, tri=tris, overlay=mov)"
   ]
  }
 ],
 "metadata": {
  "kernelspec": {
   "display_name": "Python 3",
   "language": "python",
   "name": "python3"
  },
  "language_info": {
   "codemirror_mode": {
    "name": "ipython",
    "version": 3
   },
   "file_extension": ".py",
   "mimetype": "text/x-python",
   "name": "python",
   "nbconvert_exporter": "python",
   "pygments_lexer": "ipython3",
   "version": "3.8.5"
  }
 },
 "nbformat": 4,
 "nbformat_minor": 5
}
