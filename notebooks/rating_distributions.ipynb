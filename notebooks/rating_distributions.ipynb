{
 "cells": [
  {
   "cell_type": "markdown",
   "metadata": {},
   "source": [
    "# Rating distributions\n",
    "Plot distributions of categorical emotion, valence, and arousal ratings."
   ]
  },
  {
   "cell_type": "code",
   "execution_count": null,
   "metadata": {},
   "outputs": [],
   "source": [
    "import os.path as op\n",
    "import pandas as pd\n",
    "import seaborn as sns\n",
    "import matplotlib.pyplot as plt\n",
    "from glob import glob"
   ]
  },
  {
   "cell_type": "markdown",
   "metadata": {},
   "source": [
    "Gather all categorical emotion ratings."
   ]
  },
  {
   "cell_type": "code",
   "execution_count": null,
   "metadata": {},
   "outputs": [],
   "source": [
    "files = sorted(glob('../data/ratings/*expressive*.tsv'))\n",
    "counts_train, counts_test = [], []\n",
    "for f in files:\n",
    "    sub = op.basename(f).split('_')[0]\n",
    "    df = pd.read_csv(f, sep='\\t', index_col=0)\n",
    "    df = df.query(\"rating_type == 'emotion' & rating != 'Geen van allen'\")\n",
    "    df_train = df.query(\"data_split == 'train'\")\n",
    "    counts_train.append(df_train['rating'].value_counts().to_frame().assign(sub=sub))\n",
    "\n",
    "    df_test = df.query(\"data_split == 'test' or data_split == 'test_extra'\")\n",
    "    counts_test.append(df_test['rating'].value_counts().to_frame().assign(sub=sub))\n",
    "\n",
    "counts_train = pd.concat(counts_train, axis=0)\n",
    "counts_train['split'] = 'train'\n",
    "counts_test = pd.concat(counts_test, axis=0)\n",
    "counts_test['split'] = 'test'\n",
    "counts = pd.concat((counts_train, counts_test), axis=0)\n",
    "counts = counts.reset_index().rename({'index': 'emotion'}, axis=1).set_index('sub')\n",
    "counts = counts.replace(\n",
    "    {'Boos': 'Anger', 'Blij': 'Happiness', 'Verrassing': 'Suprise',\n",
    "     'Walging': 'Disgust', 'Bang': 'Fear', 'Verdrietig': 'Sadness'}\n",
    ")\n",
    "counts = counts.sort_values('emotion')\n",
    "for split in ['train', 'test']:\n",
    "    idx = counts['split'] == split\n",
    "    counts.loc[idx, 'total'] = counts.loc[idx, :].groupby('sub').sum().loc[counts.loc[idx, :].index, 'rating']\n",
    "\n",
    "counts.loc[:, 'rating_prop'] = counts.loc[:, 'rating'] / counts.loc[:, 'total']"
   ]
  },
  {
   "cell_type": "markdown",
   "metadata": {},
   "source": [
    "And valence/arousal ratings."
   ]
  },
  {
   "cell_type": "code",
   "execution_count": null,
   "metadata": {},
   "outputs": [],
   "source": [
    "dfs = []\n",
    "for f in files:\n",
    "    sub = op.basename(f).split('_')[0]\n",
    "    df = pd.read_csv(f, sep='\\t', index_col=0).query(\"rating_type != 'emotion'\")\n",
    "    df = df.replace({'test_extra': 'test'})\n",
    "    df = df.loc[~df['rating'].isna(), :]\n",
    "    df['rating'] = df['rating'].astype(float)\n",
    "    #for split in ['train', 'test']:\n",
    "    #    idx = df['data_split'] == split\n",
    "    #    ratings = df.loc[idx, 'rating'].to_numpy()\n",
    "    #    df.loc[idx, 'rating'] = (ratings - ratings.mean()) / ratings.std()\n",
    "    dfs.append(df.assign(sub=sub))\n",
    "\n",
    "circ_df = pd.concat(dfs, axis=0)"
   ]
  },
  {
   "cell_type": "code",
   "execution_count": null,
   "metadata": {},
   "outputs": [],
   "source": [
    "fig, axes = plt.subplots(ncols=2, nrows=3, sharex=False, sharey=False, figsize=(15, 12))\n",
    "for ii, split in enumerate(['train', 'test']):\n",
    "    axes[0, ii] = sns.barplot(data=counts.query(\"split == @split\"), x='emotion', y='rating_prop', ax=axes[0, ii])\n",
    "    axes[0, ii] = sns.stripplot(data=counts.query(\"split == @split\"), x='emotion', y='rating_prop', ax=axes[0, ii],\n",
    "                            linewidth=1, edgecolor='k')\n",
    "    split_name = 'optimization' if split == 'train' else split\n",
    "    if ii == 0:\n",
    "        axes[0, ii].set_ylabel(\"Proportion of trials\", fontsize=20)\n",
    "    else:\n",
    "        axes[0, ii].set_ylabel('')\n",
    "        axes[0, ii].text(3.8, 0.275, r'$\\it{Categorical}$' '\\n' '$\\it{emotion}$', fontsize=23)\n",
    "        axes[0, ii].get_yaxis().set_ticklabels([])\n",
    "        \n",
    "    axes[0, ii].set_xlabel('')\n",
    "    axes[0, ii].set_ylim(0, 0.35)\n",
    "    axes[0, ii].set_title(split_name.capitalize(), fontsize=25)\n",
    "    axes[0, ii].tick_params(axis='y', which='major', labelsize=13)\n",
    "    axes[0, ii].tick_params(axis='x', which='major', labelsize=15)\n",
    "\n",
    "    for i, target in enumerate(['valence', 'arousal']):\n",
    "        dat = circ_df.query(\"data_split == @split & rating_type == @target\")\n",
    "\n",
    "        if i == 1:\n",
    "            cmap = sns.color_palette(\"Blues\", as_cmap=False, n_colors=14)\n",
    "        else:\n",
    "            cmap = sns.color_palette(\"Reds\", as_cmap=False, n_colors=14)\n",
    "\n",
    "        axes[i+1, ii] = sns.kdeplot(dat['rating'], ax=axes[i+1, ii], fill=True,\n",
    "                                    color=cmap[-1], clip=[-1, 1], linewidth=0)\n",
    "        for iii, sub in enumerate(circ_df['sub'].unique()):\n",
    "            axes[i+1, ii] = sns.kdeplot(dat.query(\"sub == @sub\")['rating'], ax=axes[i+1, ii], clip=[-1, 1],\n",
    "                                        color=cmap[iii], lw=1, alpha=0.3)\n",
    "            \n",
    "        axes[i+1, ii].set_ylim(0, 2.5)\n",
    "        axes[i+1, ii].tick_params(axis='y', which='major', labelsize=13)\n",
    "        axes[i+1, ii].tick_params(axis='x', which='major', labelsize=15)\n",
    "\n",
    "        if ii == 1:\n",
    "            axes[i+1, ii].get_yaxis().set_ticklabels([])\n",
    "            axes[i+1, ii].set_ylabel('')\n",
    "            if i == 0:\n",
    "                axes[i+1, ii].text(0.5, 1.5, r'$\\it{Valence}$', fontsize=23)\n",
    "            else:\n",
    "                axes[i+1, ii].text(0.5, 1.5, r'$\\it{Arousal}$', fontsize=23)\n",
    "        else:\n",
    "            axes[i+1, ii].set_ylabel(\"Density\", fontsize=20)\n",
    "            \n",
    "        if i == 0:\n",
    "            axes[i+1, ii].set_xlabel('')\n",
    "        else:\n",
    "            axes[i+1, ii].set_xlabel('Rating', fontsize=20)\n",
    "            \n",
    "\n",
    "sns.despine()\n",
    "fig.tight_layout()\n",
    "fig.savefig('../figures/rating_distributions.png', dpi=200)"
   ]
  }
 ],
 "metadata": {
  "kernelspec": {
   "display_name": "Python 3",
   "language": "python",
   "name": "python3"
  },
  "language_info": {
   "codemirror_mode": {
    "name": "ipython",
    "version": 3
   },
   "file_extension": ".py",
   "mimetype": "text/x-python",
   "name": "python",
   "nbconvert_exporter": "python",
   "pygments_lexer": "ipython3",
   "version": "3.8.5"
  },
  "toc": {
   "base_numbering": 1,
   "nav_menu": {},
   "number_sections": true,
   "sideBar": true,
   "skip_h1_title": true,
   "title_cell": "Table of Contents",
   "title_sidebar": "Contents",
   "toc_cell": false,
   "toc_position": {},
   "toc_section_display": true,
   "toc_window_display": false
  }
 },
 "nbformat": 4,
 "nbformat_minor": 2
}
